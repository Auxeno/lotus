{
 "cells": [
  {
   "cell_type": "markdown",
   "metadata": {},
   "source": [
    "# 🪷 Lotus Demonstration Notebook\n",
    "\n",
    "To get started with Lotus in Google Colab, install with `pip` and ensure that your runtime has access to a hardware accelerator (GPU or TPU)."
   ]
  },
  {
   "cell_type": "code",
   "execution_count": null,
   "metadata": {},
   "outputs": [],
   "source": [
    "!pip install -q git+https://github.com/auxeno/lotus"
   ]
  },
  {
   "cell_type": "code",
   "execution_count": null,
   "metadata": {},
   "outputs": [],
   "source": [
    "import jax\n",
    "import jax.numpy as jnp\n",
    "import time\n",
    "\n",
    "print('JAX device:', jax.devices())"
   ]
  },
  {
   "cell_type": "markdown",
   "metadata": {},
   "source": [
    "### Train a Single Agent\n",
    "\n",
    "Easily train a single agent on the MinAtar Breakout environment."
   ]
  },
  {
   "cell_type": "code",
   "execution_count": null,
   "metadata": {},
   "outputs": [],
   "source": [
    "from lotus import PPO\n",
    "\n",
    "# Create seed and params\n",
    "agent = PPO.create(\n",
    "    env='Breakout-MinAtar'\n",
    ")\n",
    "seed = 0\n",
    "\n",
    "# Train agent\n",
    "trained_agent = PPO.train(agent, seed)"
   ]
  },
  {
   "cell_type": "code",
   "execution_count": null,
   "metadata": {},
   "outputs": [],
   "source": [
    "from lotus.plotting import plot_results\n",
    "\n",
    "# Plot Breakout training results\n",
    "plot_results(\n",
    "    {'PPO': trained_agent['logs']},\n",
    "    title='Breakout Episodic Reward'\n",
    ")"
   ]
  },
  {
   "cell_type": "markdown",
   "metadata": {},
   "source": [
    "### Train Agents on Multiple Seeds\n",
    "\n",
    "Training multiple PQN CartPole agents in parallel on 100 seeds."
   ]
  },
  {
   "cell_type": "code",
   "execution_count": null,
   "metadata": {},
   "outputs": [],
   "source": [
    "from lotus import PQN\n",
    "\n",
    "# Create agent and seeds\n",
    "agent = PQN.create(\n",
    "    env='CartPole-v1',\n",
    "    hidden_dims=(32, 32),\n",
    "    verbose=False\n",
    ")\n",
    "num_seeds = 100\n",
    "seeds = jnp.arange(num_seeds)\n",
    "\n",
    "# Start timing\n",
    "start = time.time()\n",
    "\n",
    "# Vectorised training\n",
    "train_fn = jax.vmap(agent.train, in_axes=(None, 0))\n",
    "trained_agents = train_fn(agent, seeds)\n",
    "\n",
    "# End timing\n",
    "end = time.time()\n",
    "print(f'Time taken to train 100 agents: {(end - start):.1f} seconds')\n",
    "print(f'FPS: {(num_seeds * 1_000_000 / (end - start)):,.1f}')"
   ]
  },
  {
   "cell_type": "markdown",
   "metadata": {},
   "source": [
    "### Train Agents with Multiple Configurations\n",
    "\n",
    "Training multiple PQN CartPole agents in parallel with multiple λ values."
   ]
  },
  {
   "cell_type": "code",
   "execution_count": null,
   "metadata": {},
   "outputs": [],
   "source": [
    "def create_agent(td_lambda: float):\n",
    "    return PQN.create(\n",
    "        env='CartPole-v1',\n",
    "        td_lambda=td_lambda,\n",
    "        hidden_dims=(32, 32),\n",
    "        verbose=False\n",
    "    )\n",
    "\n",
    "# Create agents and seed\n",
    "agents = jax.vmap(create_agent)(jnp.array([0.0, 0.2, 0.4, 0.6, 0.8, 1.0]))\n",
    "seed = 0\n",
    "\n",
    "# Vectorised training\n",
    "train_fn = jax.vmap(agents.train, in_axes=(0, None))\n",
    "trained_agents = train_fn(agents, seed)\n",
    "\n",
    "# Gather results\n",
    "results = {\n",
    "    f'λ={float(key)}': jax.tree.map(lambda x: x[i], trained_agents['logs'])\n",
    "    for i, key in enumerate(jnp.array([0.0, 0.2, 0.4, 0.6, 0.8, 1.0]))\n",
    "}\n",
    "\n",
    "# Plot results\n",
    "plot_results(\n",
    "    results,\n",
    "    title='PQN CartPole Episodic Reward Varying λ',\n",
    "    colors='gradient'\n",
    ")"
   ]
  },
  {
   "cell_type": "markdown",
   "metadata": {},
   "source": [
    "### Train Agents with Multiple Seeds and Configurations\n",
    "\n",
    "Training multiple CartPole agents in parallel with multiple λ values, each on 100 seeds."
   ]
  },
  {
   "cell_type": "code",
   "execution_count": null,
   "metadata": {},
   "outputs": [],
   "source": [
    "def create_agent(lr: float):\n",
    "    return PQN.create(\n",
    "        env='CartPole-v1',\n",
    "        td_lambda=td_lambda,\n",
    "        hidden_dims=(32, 32),\n",
    "        verbose=False\n",
    "    )\n",
    "\n",
    "# Create agents and seeds\n",
    "agents = jax.vmap(create_agent)(jnp.array([0.0, 0.2, 0.4, 0.6, 0.8, 1.0]))\n",
    "seeds = jnp.arange(100)\n",
    "\n",
    "# Vectorised training\n",
    "train_fn = jax.vmap(agents.train, in_axes=(0, None))\n",
    "train_fn = jax.vmap(train_fn, in_axes=(None, 0))\n",
    "trained_agent = train_fn(agents, seeds)"
   ]
  }
 ],
 "metadata": {
  "accelerator": "GPU",
  "colab": {
   "gpuType": "T4",
   "provenance": [],
   "toc_visible": false
  },
  "kernelspec": {
   "name": "python3"
  },
  "language_info": {
   "name": "python"
  }
 },
 "nbformat": 4,
 "nbformat_minor": 2
}
