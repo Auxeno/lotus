{
 "cells": [
  {
   "cell_type": "markdown",
   "metadata": {},
   "source": [
    "# Lotus Demonstration Notebook\n",
    "\n",
    "Install requirements"
   ]
  },
  {
   "cell_type": "code",
   "execution_count": null,
   "metadata": {},
   "outputs": [],
   "source": [
    "!pip install -q git+https://github.com/auxeno/lotus"
   ]
  },
  {
   "cell_type": "markdown",
   "metadata": {},
   "source": [
    "Imports"
   ]
  },
  {
   "cell_type": "code",
   "execution_count": null,
   "metadata": {},
   "outputs": [],
   "source": [
    "import jax\n",
    "import jax.numpy as jnp\n",
    "import time"
   ]
  },
  {
   "cell_type": "markdown",
   "metadata": {},
   "source": [
    "### Train a Single Agent\n",
    "\n",
    "Easily train a single agent on MinAtar's Breakout environment."
   ]
  },
  {
   "cell_type": "code",
   "execution_count": null,
   "metadata": {},
   "outputs": [],
   "source": [
    "from lotus import PPO\n",
    "\n",
    "# Create seed and params\n",
    "agent = PPO.create(\n",
    "    env='Breakout-MinAtar'\n",
    "    )\n",
    "seed = 0\n",
    "\n",
    "trained_agent = PPO.train(agent, seed)"
   ]
  },
  {
   "cell_type": "markdown",
   "metadata": {},
   "source": [
    "### Train Agents on Multiple Seeds\n",
    "\n",
    "Training multiple agents in parallel on 100 seeds."
   ]
  },
  {
   "cell_type": "code",
   "execution_count": null,
   "metadata": {},
   "outputs": [],
   "source": [
    "from lotus import PQN\n",
    "\n",
    "# Create agent and seeds\n",
    "agent = PQN.create(\n",
    "    env='CartPole-v1',\n",
    "    hidden_dims=(16, 16),\n",
    "    verbose=False\n",
    "    )\n",
    "num_seeds = 100\n",
    "seeds = jnp.arange(num_seeds)\n",
    "\n",
    "# Start timing\n",
    "start = time.time()\n",
    "\n",
    "# Vectorised training\n",
    "train_fn = jax.vmap(agent.train, in_axes=(None, 0))\n",
    "trained_agents = train_fn(agent, seeds)\n",
    "\n",
    "# End timing\n",
    "end = time.time()\n",
    "print(f'Time taken: {(end - start):.1f} seconds')\n",
    "print(f'FPS: {(num_seeds * 1_000_000 / (end - start)):,.1f}')"
   ]
  },
  {
   "cell_type": "markdown",
   "metadata": {},
   "source": [
    "### Train Agents with Multiple Configurations\n",
    "\n",
    "Training multiple agents in parallel with 10 different learning rates."
   ]
  },
  {
   "cell_type": "code",
   "execution_count": null,
   "metadata": {},
   "outputs": [],
   "source": [
    "def make_agent(lr: float):\n",
    "    return PQN.create(\n",
    "        env='CartPole-v1',\n",
    "        learning_rate=lr\n",
    "    )\n",
    "\n",
    "# Create seed and agents\n",
    "agents = jax.vmap(make_agent)(jnp.linspace(1e-4, 1e-3, 10))\n",
    "seed = 0\n",
    "\n",
    "# Vectorised training\n",
    "train_fn = jax.vmap(agents.train, in_axes=(0, None))\n",
    "trained_agent = train_fn(agents, seed)"
   ]
  },
  {
   "cell_type": "markdown",
   "metadata": {},
   "source": [
    "### Train Agents with Multiple Seeds and Configurations\n",
    "\n",
    "Training multiple agents in parallel with 10 different learning rates, each on 100 seeds."
   ]
  },
  {
   "cell_type": "code",
   "execution_count": null,
   "metadata": {},
   "outputs": [],
   "source": [
    "def make_agent(lr: float):\n",
    "    return PQN.create(\n",
    "        env='CartPole-v1',\n",
    "        learning_rate=lr\n",
    "    )\n",
    "\n",
    "# Create seed and params\n",
    "agents = jax.vmap(make_agent)(jnp.linspace(1e-4, 1e-3, 10))\n",
    "seeds = jnp.arange(100)\n",
    "\n",
    "# Vectorised training\n",
    "train_fn = jax.vmap(agents.train, in_axes=(0, None))\n",
    "train_fn = jax.vmap(train_fn, in_axes=(None, 0))\n",
    "trained_agent = train_fn(agents, seeds)"
   ]
  }
 ],
 "metadata": {
  "language_info": {
   "name": "python"
  }
 },
 "nbformat": 4,
 "nbformat_minor": 2
}
